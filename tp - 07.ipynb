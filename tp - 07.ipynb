{
 "cells": [
  {
   "cell_type": "markdown",
   "metadata": {},
   "source": [
    "AutoEncoder"
   ]
  },
  {
   "cell_type": "code",
   "execution_count": 1,
   "metadata": {},
   "outputs": [],
   "source": [
    "from __future__ import print_function\n",
    "import argparse\n",
    "import torch\n",
    "import torch.utils.data\n",
    "from torch import nn, optim\n",
    "from torch.nn import functional as F\n",
    "from torchvision import datasets, transforms\n",
    "from torchvision.utils import save_image\n",
    "import matplotlib.pyplot as plt\n",
    "\n",
    "batchsize = 128\n",
    "epochs=10\n",
    "loginterval=10\n",
    "cuda = torch.cuda.is_available()\n",
    "\n",
    "SEED = 1\n",
    "torch.manual_seed(SEED)\n",
    "\n",
    "device = torch.device(\"cuda\" if cuda else \"cpu\")\n",
    "\n",
    "kwargs = {'num_workers': 4, 'pin_memory': True} if cuda else {}\n",
    "train_loader = torch.utils.data.DataLoader(\n",
    "    datasets.MNIST('../data', train=True, download=True,\n",
    "                   transform=transforms.ToTensor()),\n",
    "    batch_size=batchsize, shuffle=True, **kwargs)\n",
    "test_loader = torch.utils.data.DataLoader(\n",
    "    datasets.MNIST('../data', train=False, transform=transforms.ToTensor()),\n",
    "    batch_size=batchsize, shuffle=True, **kwargs)"
   ]
  },
  {
   "cell_type": "code",
   "execution_count": 2,
   "metadata": {},
   "outputs": [],
   "source": [
    "class AE(nn.Module):\n",
    "    def __init__(self):\n",
    "        super(AE, self).__init__()\n",
    "\n",
    "        # create using nn.Sequential()\n",
    "        # encoder :FC (784 -> 400), RELU activation; FC (400, 20)\n",
    "        # decoder :FC (20 -> 400), RELU activation; FC (400, 784)\n",
    "\n",
    "        self.encoder = nn.Sequential(nn.Linear(784,400),nn.ReLU(),nn.Linear(400,20))\n",
    "\n",
    "\n",
    "        self.decoder = nn.Sequential(nn.Linear(20,400),nn.ReLU(),nn.Linear(400,784))\n",
    "\n",
    "\n",
    "    def encode(self,x):\n",
    "        return self.encoder(x)\n",
    "        \n",
    "    def decode(self,x):\n",
    "        return torch.sigmoid(self.decoder(x))\n",
    "        \n",
    "    def forward(self, x):\n",
    "        # complete: xview = x.view(...)\n",
    "        x = x.view((-1, 784))\n",
    "        z = self.encode(x)\n",
    "        return self.decode(z)\n",
    "\n",
    "model = AE()\n",
    "optimizer = optim.Adam(model.parameters(), lr=1e-3)"
   ]
  },
  {
   "cell_type": "code",
   "execution_count": 3,
   "metadata": {},
   "outputs": [],
   "source": [
    "def loss_function(recon_batch, x):\n",
    "    #compute bce as the binary cross entropy across the batch as a sum\n",
    "    bce = nn.BCELoss(size_average=False)\n",
    "    return bce(recon_batch, x)\n"
   ]
  },
  {
   "cell_type": "code",
   "execution_count": 4,
   "metadata": {},
   "outputs": [],
   "source": [
    "losses = []\n",
    "def train(epoch):\n",
    "    model.train()\n",
    "    train_loss = 0\n",
    "    for batch_idx, (data, _) in enumerate(train_loader):\n",
    "        data = data.to(device)\n",
    "        optimizer.zero_grad()\n",
    "        recon_batch = model(data)\n",
    "        loss = loss_function(recon_batch, data.view(-1, 784))\n",
    "        losses.append(loss.cpu().item())\n",
    "        loss.backward()\n",
    "        train_loss += loss.item()\n",
    "        optimizer.step()\n",
    "        if batch_idx % loginterval == 0:\n",
    "            print('\\r Train Epoch: {} [{}/{} ({:.0f}%)]\\tLoss: {:.1f}'.format(\n",
    "                epoch, batch_idx * len(data), len(train_loader.dataset),\n",
    "                100. * batch_idx / len(train_loader),\n",
    "                loss.item() / len(data)), end='')\n",
    "\n",
    "    print(' Average loss: {:.1f}'.format(\n",
    "          train_loss / len(train_loader.dataset)), end='')"
   ]
  },
  {
   "cell_type": "code",
   "execution_count": 5,
   "metadata": {},
   "outputs": [],
   "source": [
    "def test(epoch):\n",
    "    model.eval()\n",
    "    test_loss = 0\n",
    "    with torch.no_grad():\n",
    "        for i, (data, _) in enumerate(test_loader):\n",
    "            data = data.to(device)\n",
    "            recon_batch = model(data)\n",
    "            test_loss += loss_function(recon_batch, data.view(-1, 784))\n",
    "\n",
    "            if i == 0:\n",
    "                n = min(data.size(0), 8)\n",
    "                comparison = torch.cat([data[:n],\n",
    "                                      recon_batch.view(batchsize, 1, 28, 28)[:n]])\n",
    "                save_image(comparison.cpu(),\n",
    "                         '/home/aberniga/apprentissage_profond/results/reconstruction_' + str(epoch) + '.png', nrow=n)\n",
    "\n",
    "    test_loss /= len(test_loader.dataset)\n",
    "    print(' Test loss: {:.1f}'.format(test_loss))"
   ]
  },
  {
   "cell_type": "code",
   "execution_count": 6,
   "metadata": {
    "scrolled": false
   },
   "outputs": [
    {
     "name": "stderr",
     "output_type": "stream",
     "text": [
      "/opt/miniconda/lib/python3.6/site-packages/torch/nn/functional.py:52: UserWarning: size_average and reduce args will be deprecated, please use reduction='sum' instead.\n",
      "  warnings.warn(warning.format(ret))\n"
     ]
    },
    {
     "name": "stdout",
     "output_type": "stream",
     "text": [
      " Train Epoch: 1 [58880/60000 (98%)]\tLoss: 90.79 Average loss: 132.0 Test loss: 89.0\n",
      " Train Epoch: 2 [58880/60000 (98%)]\tLoss: 84.5 Average loss: 83.4 Test loss: 78.1\n",
      " Train Epoch: 3 [58880/60000 (98%)]\tLoss: 76.9 Average loss: 77.0 Test loss: 74.5\n",
      " Train Epoch: 4 [58880/60000 (98%)]\tLoss: 76.2 Average loss: 74.2 Test loss: 72.5\n",
      " Train Epoch: 5 [58880/60000 (98%)]\tLoss: 73.4 Average loss: 72.4 Test loss: 71.4\n",
      " Train Epoch: 6 [58880/60000 (98%)]\tLoss: 69.6 Average loss: 71.1 Test loss: 70.3\n",
      " Train Epoch: 7 [58880/60000 (98%)]\tLoss: 69.8 Average loss: 70.2 Test loss: 69.5\n",
      " Train Epoch: 8 [58880/60000 (98%)]\tLoss: 71.2 Average loss: 69.4 Test loss: 68.8\n",
      " Train Epoch: 9 [58880/60000 (98%)]\tLoss: 68.4 Average loss: 68.8 Test loss: 68.5\n",
      " Train Epoch: 10 [58880/60000 (98%)]\tLoss: 69.2 Average loss: 68.3 Test loss: 68.1\n"
     ]
    }
   ],
   "source": [
    "for epoch in range(1, epochs + 1):\n",
    "    train(epoch)\n",
    "    test(epoch)\n",
    "    with torch.no_grad():\n",
    "     sample = torch.randn(64, 20).to(device)\n",
    "     sample = model.decode(sample).cpu()\n",
    "     save_image(sample.view(64, 1, 28, 28), '/home/aberniga/apprentissage_profond/results/sample_' + str(epoch) + '.png')"
   ]
  },
  {
   "cell_type": "code",
   "execution_count": 7,
   "metadata": {},
   "outputs": [
    {
     "data": {
      "text/plain": [
       "[<matplotlib.lines.Line2D at 0x7f766c0825f8>]"
      ]
     },
     "execution_count": 7,
     "metadata": {},
     "output_type": "execute_result"
    },
    {
     "data": {
      "image/png": "[encoded data removed]",
      "text/plain": [
       "<Figure size 432x288 with 1 Axes>"
      ]
     },
     "metadata": {
      "needs_background": "light"
     },
     "output_type": "display_data"
    }
   ],
   "source": [
    "#plot losses\n",
    "plt.plot(losses)"
   ]
  },
  {
   "cell_type": "code",
   "execution_count": null,
   "metadata": {},
   "outputs": [],
   "source": []
  }
 ],
 "metadata": {
  "kernelspec": {
   "display_name": "Python 3",
   "language": "python",
   "name": "python3"
  },
  "language_info": {
   "codemirror_mode": {
    "name": "ipython",
    "version": 3
   },
   "file_extension": ".py",
   "mimetype": "text/x-python",
   "name": "python",
   "nbconvert_exporter": "python",
   "pygments_lexer": "ipython3",
   "version": "3.6.6"
  }
 },
 "nbformat": 4,
 "nbformat_minor": 2
}
