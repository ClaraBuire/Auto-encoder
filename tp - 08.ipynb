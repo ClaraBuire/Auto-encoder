{
 "cells": [
  {
   "cell_type": "markdown",
   "metadata": {},
   "source": [
    "VAE with disentanglement"
   ]
  },
  {
   "cell_type": "code",
   "execution_count": 3,
   "metadata": {},
   "outputs": [],
   "source": [
    "from __future__ import print_function\n",
    "import argparse\n",
    "import torch\n",
    "import torch.utils.data\n",
    "from torch import nn, optim\n",
    "from torch.nn import functional as F\n",
    "from torchvision import datasets, transforms\n",
    "from torchvision.utils import save_image\n",
    "import matplotlib.pyplot as plt\n",
    "\n",
    "batchsize = 128\n",
    "epochs=10\n",
    "loginterval=10\n",
    "cuda = torch.cuda.is_available()\n",
    "\n",
    "SEED = 1\n",
    "torch.manual_seed(SEED)\n",
    "\n",
    "device = torch.device(\"cuda\" if cuda else \"cpu\")\n",
    "\n",
    "kwargs = {'num_workers': 4, 'pin_memory': True} if cuda else {}\n",
    "train_loader = torch.utils.data.DataLoader(\n",
    "    datasets.MNIST('../data', train=True, download=True,\n",
    "                   transform=transforms.ToTensor()),\n",
    "    batch_size=batchsize, shuffle=True, **kwargs)\n",
    "test_loader = torch.utils.data.DataLoader(\n",
    "    datasets.MNIST('../data', train=False, transform=transforms.ToTensor()),\n",
    "    batch_size=batchsize, shuffle=True, **kwargs)"
   ]
  },
  {
   "cell_type": "code",
   "execution_count": 16,
   "metadata": {},
   "outputs": [],
   "source": [
    "class VAE(nn.Module):\n",
    "    def __init__(self):\n",
    "        super(VAE, self).__init__()\n",
    "\n",
    "        # create using nn.Sequential()\n",
    "        # decoder :FC (20 -> 400), RELU activation; FC (400, 784)\n",
    "        self.decoder = nn.Sequential(nn.Linear(20,400),nn.ReLU(),nn.Linear(400,784))\n",
    "\n",
    "        # and without using nn.Sequential, an encoder\n",
    "        self.f1 = nn.Linear(784,400)\n",
    "        self.f3 = nn.Linear(400,20)\n",
    "        #FC (784 -> 400), RELU activation\n",
    "        # then in parallel a FC (400, 20) for each mu / logvar\n",
    "\n",
    "    def encode(self, x):\n",
    "        z = F.relu(self.f1(x))\n",
    "        mu = self.f3(z)\n",
    "        logvar = self.f3(z)\n",
    "        return mu, logvar\n",
    "\n",
    "    def reparameterize(self, mu, logvar):\n",
    "        # sample\n",
    "        std = torch.exp(0.5*logvar)\n",
    "        eps = torch.randn_like(std)\n",
    "        \n",
    "        return eps.mul(std).add_(mu)\n",
    "\n",
    "    def decode(self, z):\n",
    "        return torch.sigmoid(self.decoder(z))\n",
    "\n",
    "    def forward(self, x):\n",
    "        mu, logvar = self.encode(x.view(-1, 784))\n",
    "        z = self.reparameterize(mu, logvar)\n",
    "        return self.decode(z), mu, logvar\n",
    "\n",
    "model = VAE().to(device)\n",
    "optimizer = optim.Adam(model.parameters(), lr=1e-3)"
   ]
  },
  {
   "cell_type": "code",
   "execution_count": 6,
   "metadata": {},
   "outputs": [],
   "source": [
    "def loss_function(recon_batch, x, mu, logvar, beta):\n",
    "    # compute binary cross entropy summed across the batch\n",
    "    bce = F.binary_cross_entropy(recon_batch, x.view(-1, 784), reduction='sum')\n",
    "    \n",
    "    #   Kullback-Leibler divergence losses summed over all elements and batch\n",
    "    kld = -0.5 * torch.sum(1 + logvar - mu.pow(2) - logvar.exp())\n",
    "    \n",
    "    # the beta factor allows disentanglement for values >>1\n",
    "    return bce+kld*beta"
   ]
  },
  {
   "cell_type": "code",
   "execution_count": 11,
   "metadata": {},
   "outputs": [],
   "source": [
    "def train(epoch, beta):\n",
    "    model.train()\n",
    "    train_loss = 0\n",
    "    for batch_idx, (data, _) in enumerate(train_loader):\n",
    "        data = data.to(device)\n",
    "        optimizer.zero_grad()\n",
    "        recon_batch, mu, logvar = model(data)\n",
    "        loss = loss_function(recon_batch, data.view(-1, 784), mu, logvar, beta)\n",
    "        loss.backward()\n",
    "        train_loss += loss.item()\n",
    "        optimizer.step()\n",
    "        if batch_idx % loginterval == 0:\n",
    "            print('\\r Train Epoch: {} [{}/{} ({:.0f}%)]\\tLoss: {:.1f}'.format(\n",
    "                epoch, batch_idx * len(data), len(train_loader.dataset),\n",
    "                100. * batch_idx / len(train_loader),\n",
    "                loss.item() / len(data)), end='')\n",
    "\n",
    "    print(' Average loss: {:.1f}'.format(\n",
    "         train_loss / len(train_loader.dataset)), end='')"
   ]
  },
  {
   "cell_type": "code",
   "execution_count": 12,
   "metadata": {},
   "outputs": [],
   "source": [
    "def test(epoch, beta):\n",
    "    model.eval()\n",
    "    test_loss = 0\n",
    "    with torch.no_grad():\n",
    "        for i, (data, _) in enumerate(test_loader):\n",
    "            data = data.to(device)\n",
    "            recon_batch, mu, logvar = model(data)\n",
    "            test_loss += loss_function(recon_batch, data.view(-1, 784), mu, logvar,beta)\n",
    "\n",
    "            if i == 0:\n",
    "                n = min(data.size(0), 8)\n",
    "                comparison = torch.cat([data[:n],\n",
    "                                      recon_batch.view(batchsize, 1, 28, 28)[:n]])\n",
    "                save_image(comparison.cpu(),\n",
    "                         '/home/aberniga/apprentissage_profond/results/reconstruction_' + str(epoch) + '.png', nrow=n)\n",
    "\n",
    "    test_loss /= len(test_loader.dataset)\n",
    "    print(' Test loss: {:.1f}'.format(test_loss))"
   ]
  },
  {
   "cell_type": "code",
   "execution_count": 17,
   "metadata": {
    "scrolled": false
   },
   "outputs": [
    {
     "name": "stdout",
     "output_type": "stream",
     "text": [
      " Train Epoch: 1 [58880/60000 (98%)]\tLoss: 197.8 Average loss: 214.1 Test loss: 203.3\n",
      " Train Epoch: 2 [58880/60000 (98%)]\tLoss: 195.8 Average loss: 202.7 Test loss: 201.8\n",
      " Train Epoch: 3 [58880/60000 (98%)]\tLoss: 196.8 Average loss: 201.5 Test loss: 200.8\n",
      " Train Epoch: 4 [58880/60000 (98%)]\tLoss: 199.7 Average loss: 201.2 Test loss: 200.5\n",
      " Train Epoch: 5 [58880/60000 (98%)]\tLoss: 205.9 Average loss: 200.8 Test loss: 200.4\n",
      " Train Epoch: 6 [58880/60000 (98%)]\tLoss: 202.4 Average loss: 200.4 Test loss: 200.3\n",
      " Train Epoch: 7 [58880/60000 (98%)]\tLoss: 205.4 Average loss: 200.3 Test loss: 199.7\n",
      " Train Epoch: 8 [58880/60000 (98%)]\tLoss: 200.5 Average loss: 200.0 Test loss: 199.8\n",
      " Train Epoch: 9 [58880/60000 (98%)]\tLoss: 209.9 Average loss: 200.1 Test loss: 199.7\n",
      " Train Epoch: 10 [58880/60000 (98%)]\tLoss: 199.0 Average loss: 199.9 Test loss: 199.4\n"
     ]
    }
   ],
   "source": [
    "beta = 10\n",
    "for epoch in range(1, epochs + 1):\n",
    "    train(epoch, beta)\n",
    "    test(epoch, beta)\n",
    "    with torch.no_grad():\n",
    "         sample = torch.randn(64, 20).to(device)\n",
    "         sample = model.decode(sample).cpu()\n",
    "         save_image(sample.view(64, 1, 28, 28), '/home/aberniga/apprentissage_profond/results/sample_' + str(epoch) + '.png')    "
   ]
  },
  {
   "cell_type": "code",
   "execution_count": 7,
   "metadata": {},
   "outputs": [],
   "source": [
    "# sample = torch.empty(64, 20)\n",
    "\n",
    "# create a batch of 8x8 inputs sampled from normal distribution\n",
    "# observe the image with different values of beta (0, 1, 10, 100)\n",
    "\n",
    "save_image(sample.view(64, 1, 28, 28), 'results/sample_continuous.png')"
   ]
  },
  {
   "cell_type": "code",
   "execution_count": 8,
   "metadata": {
    "scrolled": true
   },
   "outputs": [
    {
     "data": {
      "text/plain": [
       "[<matplotlib.lines.Line2D at 0x215559a7438>]"
      ]
     },
     "execution_count": 8,
     "metadata": {},
     "output_type": "execute_result"
    },
    {
     "data": {
      "image/png": "[encoded data removed]",
      "text/plain": [
       "<Figure size 432x288 with 1 Axes>"
      ]
     },
     "metadata": {
      "needs_background": "light"
     },
     "output_type": "display_data"
    }
   ],
   "source": [
    "# plot losses\n",
    "plt.plot(losses)"
   ]
  },
  {
   "cell_type": "code",
   "execution_count": null,
   "metadata": {},
   "outputs": [],
   "source": [
    "#plot the gradient mean value for each FC layer across training\n",
    "plt.plot(gradients)"
   ]
  }
 ],
 "metadata": {
  "kernelspec": {
   "display_name": "Python 3",
   "language": "python",
   "name": "python3"
  },
  "language_info": {
   "codemirror_mode": {
    "name": "ipython",
    "version": 3
   },
   "file_extension": ".py",
   "mimetype": "text/x-python",
   "name": "python",
   "nbconvert_exporter": "python",
   "pygments_lexer": "ipython3",
   "version": "3.6.6"
  }
 },
 "nbformat": 4,
 "nbformat_minor": 2
}
